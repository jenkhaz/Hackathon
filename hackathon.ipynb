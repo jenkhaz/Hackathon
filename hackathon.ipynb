{
 "cells": [
  {
   "cell_type": "markdown",
   "metadata": {},
   "source": [
    "# **Data Cleanup and preparation:**\n",
    "Given that this data contains cells in arabic, we will first work on extracting them and translating before we start encoding.\n",
    "After extracting, now we translate to english using deep translator's google translate"
   ]
  },
  {
   "cell_type": "code",
   "execution_count": 4,
   "metadata": {},
   "outputs": [],
   "source": [
    "import pandas as pd\n",
    "from deep_translator import GoogleTranslator\n",
    "import re\n",
    "\n",
    "# Load your dataset\n",
    "df = pd.read_csv('2024_PersonalityTraits_SurveyData.csv')\n",
    "\n",
    "# Function to check for Arabic text\n",
    "def contains_arabic(text):\n",
    "    try:\n",
    "        return bool(re.search(r'[\\u0600-\\u06FF]', str(text)))\n",
    "    except:\n",
    "        return False\n",
    "\n",
    "# Function to translate Arabic text to English\n",
    "def translate_to_english(text):\n",
    "    if pd.isna(text):  # Check for NaN values\n",
    "        return text\n",
    "    try:\n",
    "        translated = GoogleTranslator(source='ar', target='en').translate(text)\n",
    "        return translated\n",
    "    except Exception as e:\n",
    "        print(f\"Error translating '{text}': {e}\")\n",
    "        return text\n",
    "\n",
    "# Identify and translate columns containing Arabic text\n",
    "for column in df.columns:\n",
    "    if df[column].apply(contains_arabic).any():\n",
    "        df[column] = df[column].apply(translate_to_english)\n",
    "\n",
    "# Save the translated DataFrame to a new CSV file\n",
    "df.to_csv('Translated_PersonalityTraits_SurveyData.csv', index=False)\n"
   ]
  },
  {
   "cell_type": "markdown",
   "metadata": {},
   "source": [
    "# **Encoding the data :**\n"
   ]
  },
  {
   "cell_type": "code",
   "execution_count": 6,
   "metadata": {},
   "outputs": [
    {
     "name": "stdout",
     "output_type": "stream",
     "text": [
      "All applicable columns have been label-encoded and saved to 'IntegerEncoded_PersonalityTraits_SurveyData.csv'.\n"
     ]
    }
   ],
   "source": [
    "import pandas as pd\n",
    "from sklearn.preprocessing import LabelEncoder\n",
    "\n",
    "# Load the translated dataset\n",
    "df = pd.read_csv('Translated_PersonalityTraits_SurveyData.csv')\n",
    "\n",
    "# Create a copy to avoid altering the original directly\n",
    "df_encoded = df.copy()\n",
    "\n",
    "# Iterate over all columns\n",
    "for col in df_encoded.columns:\n",
    "    # Check column type; if it's of object type (often strings) or category, then label encode it\n",
    "    if df_encoded[col].dtype == 'object' or str(df_encoded[col].dtype) == 'category':\n",
    "        # Convert NaNs to string 'NA' or handle them before encoding\n",
    "        df_encoded[col] = df_encoded[col].fillna('NA')  \n",
    "        \n",
    "        # Instantiate LabelEncoder\n",
    "        le = LabelEncoder()\n",
    "        \n",
    "        # Fit and transform the column data\n",
    "        df_encoded[col] = le.fit_transform(df_encoded[col].astype(str))\n",
    "\n",
    "# Save the encoded DataFrame to a new CSV file\n",
    "df_encoded.to_csv('IntegerEncoded_PersonalityTraits_SurveyData.csv', index=False)\n",
    "\n",
    "print(\"All applicable columns have been label-encoded and saved to 'IntegerEncoded_PersonalityTraits_SurveyData.csv'.\")\n"
   ]
  }
 ],
 "metadata": {
  "kernelspec": {
   "display_name": "Python 3",
   "language": "python",
   "name": "python3"
  },
  "language_info": {
   "codemirror_mode": {
    "name": "ipython",
    "version": 3
   },
   "file_extension": ".py",
   "mimetype": "text/x-python",
   "name": "python",
   "nbconvert_exporter": "python",
   "pygments_lexer": "ipython3",
   "version": "3.12.3"
  }
 },
 "nbformat": 4,
 "nbformat_minor": 2
}
